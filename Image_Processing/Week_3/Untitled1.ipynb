{
 "cells": [
  {
   "cell_type": "code",
   "execution_count": 2,
   "id": "12054373-8b0a-4c49-9988-64f3f6c8bc6b",
   "metadata": {},
   "outputs": [],
   "source": [
    "import cv2\n",
    "import numpy as np"
   ]
  },
  {
   "cell_type": "code",
   "execution_count": 3,
   "id": "1d4f423d-1b10-4cf5-a340-f7df7e8130a6",
   "metadata": {},
   "outputs": [
    {
     "name": "stdout",
     "output_type": "stream",
     "text": [
      "(274, 184, 3)\n"
     ]
    }
   ],
   "source": [
    "my_img = cv2.imread(\"./susamuru.jpg\",1)\n",
    "print(my_img.shape)"
   ]
  },
  {
   "cell_type": "code",
   "execution_count": 6,
   "id": "710ec0d1-0e53-45aa-b7d6-b98e6bb3a3fc",
   "metadata": {},
   "outputs": [],
   "source": [
    "cv2.imshow(\"RGB Image\",my_img)\n",
    "cv2.waitKey(0)\n",
    "cv2.destroyAllWindows()"
   ]
  },
  {
   "cell_type": "code",
   "execution_count": 7,
   "id": "89e3357c-1d43-41c9-aeec-91ec25e915e9",
   "metadata": {},
   "outputs": [],
   "source": [
    "img_vertical = cv2.flip(my_img,0)\n",
    "img_horizontal = cv2.flip(my_img,1)\n",
    "img_both = cv2.flip(my_img,-1)\n"
   ]
  },
  {
   "cell_type": "code",
   "execution_count": 8,
   "id": "0859a1c6-ea7e-4b71-b727-761fae2a7828",
   "metadata": {},
   "outputs": [],
   "source": [
    "cv2.imshow(\"Original Image\",my_img)\n",
    "cv2.imshow(\"Vertical Image\",img_vertical)\n",
    "cv2.imshow(\"Horizontal Image\",img_horizontal)\n",
    "cv2.imshow(\"Vertical and Horizontal Image\",img_both)\n",
    "cv2.waitKey(0)\n",
    "cv2.destroyAllWindows()"
   ]
  },
  {
   "cell_type": "code",
   "execution_count": 9,
   "id": "5641d25d-a991-408e-8488-76e70f9d45b5",
   "metadata": {},
   "outputs": [
    {
     "data": {
      "text/plain": [
       "numpy.ndarray"
      ]
     },
     "execution_count": 9,
     "metadata": {},
     "output_type": "execute_result"
    }
   ],
   "source": [
    "type(my_img)"
   ]
  },
  {
   "cell_type": "code",
   "execution_count": 49,
   "id": "c74610a8-20fb-4ad7-9898-34f74e27cbe8",
   "metadata": {},
   "outputs": [],
   "source": [
    "vertical_with_code = my_img[::,:,:]\n",
    "cv2.imshow(\"Vertical Image With Code\",vertical_with_code)\n",
    "cv2.waitKey(0)\n",
    "cv2.destroyAllWindows()"
   ]
  },
  {
   "cell_type": "markdown",
   "id": "adee9b46-a584-448c-ab9a-927ae5ffe4ac",
   "metadata": {},
   "source": [
    "print(my_img.shape)\n",
    "print(f\"Görüntünün Yüksekliği = {my_img.shape[0]}\")\n",
    "print(f\"Görüntünün Genişliği = {my_img.shape[1]}\")\n",
    "print(f\"Görüntünün Kanal Sayısı = {my_img.shape[2]}\")"
   ]
  },
  {
   "cell_type": "code",
   "execution_count": 67,
   "id": "46cc7ffe-00bf-40c6-8db8-b465f0a8087a",
   "metadata": {},
   "outputs": [],
   "source": [
    "resized_img = cv2.resize(my_img,(1080,1920),cv2.INTER_LANCZOS4)\n",
    "cv2.imshow(\"Original Image\",my_img)\n",
    "cv2.imshow(\"Resized Image\",resized_img)\n",
    "cv2.waitKey(0)\n",
    "cv2.destroyAllWindows()"
   ]
  },
  {
   "cell_type": "code",
   "execution_count": null,
   "id": "3d96bbc8-5ea9-41fd-b856-5aba0ddb4fff",
   "metadata": {},
   "outputs": [],
   "source": []
  }
 ],
 "metadata": {
  "kernelspec": {
   "display_name": "env_ybs",
   "language": "python",
   "name": "env_ybs"
  },
  "language_info": {
   "codemirror_mode": {
    "name": "ipython",
    "version": 3
   },
   "file_extension": ".py",
   "mimetype": "text/x-python",
   "name": "python",
   "nbconvert_exporter": "python",
   "pygments_lexer": "ipython3",
   "version": "3.10.10"
  }
 },
 "nbformat": 4,
 "nbformat_minor": 5
}
